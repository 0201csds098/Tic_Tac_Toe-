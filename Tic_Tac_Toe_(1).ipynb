{
  "nbformat": 4,
  "nbformat_minor": 0,
  "metadata": {
    "colab": {
      "provenance": [],
      "include_colab_link": true
    },
    "kernelspec": {
      "name": "python3",
      "display_name": "Python 3"
    },
    "language_info": {
      "name": "python"
    }
  },
  "cells": [
    {
      "cell_type": "markdown",
      "metadata": {
        "id": "view-in-github",
        "colab_type": "text"
      },
      "source": [
        "<a href=\"https://colab.research.google.com/github/0201csds098/Tic_Tac_Toe-/blob/main/Tic_Tac_Toe_(1).ipynb\" target=\"_parent\"><img src=\"https://colab.research.google.com/assets/colab-badge.svg\" alt=\"Open In Colab\"/></a>"
      ]
    },
    {
      "cell_type": "code",
      "metadata": {
        "id": "lAvDwQAAFDG0"
      },
      "source": [
        "import numpy as np \n",
        "import random \n",
        "from time import sleep \n"
      ],
      "execution_count": null,
      "outputs": []
    },
    {
      "cell_type": "code",
      "metadata": {
        "id": "oBYIy0-ZFI00"
      },
      "source": [
        "def create_board():\n",
        "  return(np.array([[0, 0, 0], \n",
        "                     [0, 0, 0], \n",
        "                     [0, 0, 0]])) \n"
      ],
      "execution_count": null,
      "outputs": []
    },
    {
      "cell_type": "code",
      "metadata": {
        "id": "qfRea9s8FatQ"
      },
      "source": [
        "def possibilities(board): \n",
        "      l = [] \n",
        "      for i in range(len(board)):\n",
        "        for j in range(len(board)): \n",
        "          if board[i][j] == 0: \n",
        "            l.append((i, j)) \n",
        "      return(l)"
      ],
      "execution_count": null,
      "outputs": []
    },
    {
      "cell_type": "code",
      "metadata": {
        "id": "9nAJxxP4GHON"
      },
      "source": [
        "def random_place(board, player):\n",
        "  selection = possibilities(board) \n",
        "  current_loc = random.choice(selection) \n",
        "  board[current_loc] = player \n",
        "  return(board) \n"
      ],
      "execution_count": null,
      "outputs": []
    },
    {
      "cell_type": "code",
      "metadata": {
        "id": "awaqDRZWGWFP"
      },
      "source": [
        "def row_win(board, player):\n",
        "  for x in range(len(board)): \n",
        "    win = True\n",
        "    for y in range(len(board)): \n",
        "      if board[x, y] != player: \n",
        "        win = False\n",
        "        continue\n",
        "    if win == True: \n",
        "      return(win) \n",
        "  return(win)  "
      ],
      "execution_count": null,
      "outputs": []
    },
    {
      "cell_type": "code",
      "metadata": {
        "id": "-mPwJfptH3YK"
      },
      "source": [
        "def col_win(board, player):\n",
        "  for x in range(len(board)): \n",
        "    win = True\n",
        "    for y in range(len(board)): \n",
        "      if board[y][x] != player: \n",
        "        win = False\n",
        "        continue\n",
        "    if win == True:\n",
        "      return(win) \n",
        "  return(win)\n"
      ],
      "execution_count": null,
      "outputs": []
    },
    {
      "cell_type": "code",
      "metadata": {
        "id": "DZ73w7KeI_Hp"
      },
      "source": [
        "def diag_win(board, player):\n",
        "  win = True\n",
        "  y = 0\n",
        "  for x in range(len(board)): \n",
        "    if board[x, x] != player: \n",
        "      win = False\n",
        "  if win: \n",
        "    return win \n",
        "  win = True\n",
        "  if win: \n",
        "    for x in range(len(board)): \n",
        "      y = len(board) - 1 - x \n",
        "      if board[x, y] != player: \n",
        "        win = False\n",
        "  return win "
      ],
      "execution_count": null,
      "outputs": []
    },
    {
      "cell_type": "code",
      "metadata": {
        "id": "fsSAPgqdKcX0"
      },
      "source": [
        "def evaluate(board):\n",
        "  winner = 0\n",
        "  for player in [1, 2]: \n",
        "    if (row_win(board, player) or col_win(board,player) or diag_win(board,player)):\n",
        "      winner = player \n",
        "  if np.all(board != 0) and winner == 0: \n",
        "    winner = -1\n",
        "  return winner \n",
        "   \n"
      ],
      "execution_count": null,
      "outputs": []
    },
    {
      "cell_type": "code",
      "metadata": {
        "id": "W0VKVufsLQkS"
      },
      "source": [
        "def play_game(): \n",
        "  board, winner, counter = create_board(), 0, 1\n",
        "  print(board) \n",
        "  sleep(2)\n",
        "\n",
        "  while winner == 0: \n",
        "    for player in [1, 2]: \n",
        "      board = random_place(board, player) \n",
        "      print(\"Board after \" + str(counter) + \" move\") \n",
        "      print(board) \n",
        "      sleep(2) \n",
        "      counter += 1\n",
        "      winner = evaluate(board)\n",
        "      if winner != 0: \n",
        "        break\n",
        "  return(winner)  \n"
      ],
      "execution_count": null,
      "outputs": []
    },
    {
      "cell_type": "code",
      "metadata": {
        "colab": {
          "base_uri": "https://localhost:8080/"
        },
        "id": "6w89pWkFMXLD",
        "outputId": "0b13ee55-2332-4b59-ae28-aca5165b7590"
      },
      "source": [
        "print(\"Winner is: \" + str(play_game())) "
      ],
      "execution_count": null,
      "outputs": [
        {
          "output_type": "stream",
          "name": "stdout",
          "text": [
            "[[0 0 0]\n",
            " [0 0 0]\n",
            " [0 0 0]]\n",
            "Board after 1 move\n",
            "[[0 0 0]\n",
            " [1 0 0]\n",
            " [0 0 0]]\n",
            "Board after 2 move\n",
            "[[0 0 0]\n",
            " [1 0 0]\n",
            " [0 2 0]]\n",
            "Board after 3 move\n",
            "[[0 1 0]\n",
            " [1 0 0]\n",
            " [0 2 0]]\n",
            "Board after 4 move\n",
            "[[0 1 0]\n",
            " [1 0 0]\n",
            " [2 2 0]]\n",
            "Board after 5 move\n",
            "[[0 1 1]\n",
            " [1 0 0]\n",
            " [2 2 0]]\n",
            "Board after 6 move\n",
            "[[0 1 1]\n",
            " [1 0 0]\n",
            " [2 2 2]]\n",
            "Winner is: 2\n"
          ]
        }
      ]
    },
    {
      "cell_type": "code",
      "metadata": {
        "id": "cSrHttSjMdZz"
      },
      "source": [],
      "execution_count": null,
      "outputs": []
    }
  ]
}